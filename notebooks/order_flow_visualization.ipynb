{
 "cells": [
  {
   "cell_type": "markdown",
   "id": "0",
   "metadata": {},
   "source": [
    "# Purpose of the Notebook\n",
    "\n",
    "This notebook aims to visualize order flow using Python. It will include data processing, analysis, and visualization techniques to better understand the dynamics of order flow."
   ]
  },
  {
   "cell_type": "code",
   "execution_count": null,
   "id": "1",
   "metadata": {},
   "outputs": [],
   "source": [
    "import pandas as pd\n",
    "# Simulate data\n",
    "data = {\n",
    "    'timestamp': ['2023-01-01 09:30:00', '2023-01-01 09:30:01', '2023-01-01 09:30:02'],\n",
    "    'price': [100.0, 100.1, 100.05],\n",
    "    'volume': [10, 5, 8],\n",
    "    'side': ['buy', 'sell', 'buy']  # 或 'bid'/'ask'\n",
    "}\n",
    "df = pd.DataFrame(data)\n",
    "df['timestamp'] = pd.to_datetime(df['timestamp'])  # 转换为时间格式"
   ]
  },
  {
   "cell_type": "code",
   "execution_count": null,
   "id": "2",
   "metadata": {},
   "outputs": [],
   "source": [
    "import matplotlib.pyplot as plt\n",
    "import numpy as np\n",
    "\n",
    "# 示例：生成模拟数据\n",
    "prices = np.random.normal(100, 0.5, 1000)\n",
    "volumes = np.random.randint(1, 20, 1000)\n",
    "\n",
    "# 热力图\n",
    "plt.figure(figsize=(12, 6))\n",
    "plt.hist2d(\n",
    "    x=range(len(prices)), \n",
    "    y=prices, \n",
    "    weights=volumes, \n",
    "    bins=[50, 50], \n",
    "    cmap='viridis'\n",
    ")\n",
    "plt.colorbar(label='Volume')\n",
    "plt.xlabel('Time Step')\n",
    "plt.ylabel('Price')\n",
    "plt.title('Order Flow Heatmap')\n",
    "plt.show()"
   ]
  },
  {
   "cell_type": "code",
   "execution_count": null,
   "id": "3",
   "metadata": {},
   "outputs": [],
   "source": [
    "# 假设 df 包含 'side' 列（'buy' 或 'sell'）\n",
    "buy_orders = df[df['side'] == 'buy']\n",
    "sell_orders = df[df['side'] == 'sell']\n",
    "\n",
    "plt.figure(figsize=(12, 6))\n",
    "plt.scatter(\n",
    "    buy_orders['timestamp'], buy_orders['price'], \n",
    "    s=buy_orders['volume']*10, c='green', label='Buy', alpha=0.6\n",
    ")\n",
    "plt.scatter(\n",
    "    sell_orders['timestamp'], sell_orders['price'], \n",
    "    s=sell_orders['volume']*10, c='red', label='Sell', alpha=0.6\n",
    ")\n",
    "plt.xlabel('Time')\n",
    "plt.ylabel('Price')\n",
    "plt.legend()\n",
    "plt.title('Order Flow: Buy vs Sell')\n",
    "plt.grid(alpha=0.2)\n",
    "plt.show()"
   ]
  },
  {
   "cell_type": "code",
   "execution_count": null,
   "id": "4",
   "metadata": {},
   "outputs": [],
   "source": [
    "df['delta'] = df['volume'] * np.where(df['side'] == 'buy', 1, -1)\n",
    "df['cumulative_delta'] = df['delta'].cumsum()\n",
    "\n",
    "plt.figure(figsize=(12, 4))\n",
    "plt.plot(df['timestamp'], df['cumulative_delta'], label='Net Buy Volume', color='blue')\n",
    "plt.xlabel('Time')\n",
    "plt.ylabel('Cumulative Delta')\n",
    "plt.title('Order Flow: Cumulative Delta')\n",
    "plt.grid(alpha=0.2)\n",
    "plt.legend()\n",
    "plt.show()"
   ]
  },
  {
   "cell_type": "code",
   "execution_count": null,
   "id": "5",
   "metadata": {},
   "outputs": [],
   "source": []
  }
 ],
 "metadata": {
  "kernelspec": {
   "display_name": "venv",
   "language": "python",
   "name": "python3"
  },
  "language_info": {
   "codemirror_mode": {
    "name": "ipython",
    "version": 3
   },
   "file_extension": ".py",
   "mimetype": "text/x-python",
   "name": "python",
   "nbconvert_exporter": "python",
   "pygments_lexer": "ipython3",
   "version": "3.12.3"
  }
 },
 "nbformat": 4,
 "nbformat_minor": 5
}
